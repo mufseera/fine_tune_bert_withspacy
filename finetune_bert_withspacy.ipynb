{
  "cells": [
    {
      "cell_type": "code",
      "execution_count": null,
      "metadata": {
        "id": "lktcKutMWhqv"
      },
      "outputs": [],
      "source": [
        "# convert IOB to JSON for spacy\n",
        "!python -m spacy convert /content/drive/MyDrive/nlp/test.tsv ./ -t json -n 1 -c iob\n",
        "!python -m spacy convert /content/drive/MyDrive/nlp/train.tsv ./ -t json -n 1 -c iob"
      ]
    },
    {
      "cell_type": "code",
      "execution_count": null,
      "metadata": {
        "id": "GjjwXrIr8HpM"
      },
      "outputs": [],
      "source": [
        "# install the spacy libarray and spacy transformer pipeline\n",
        "!pip install -U spacy\n",
        "!python - m spacy dwonload en_core_web_trf"
      ]
    },
    {
      "cell_type": "code",
      "execution_count": null,
      "metadata": {
        "id": "0WHDpwVvXdmJ"
      },
      "outputs": [],
      "source": [
        "#  convert json file to .spacy binary file\n",
        "!python -m spacy convert /content/train.json ./ -t spacy\n",
        "!python -m spacy convert /content/test.json ./ -t spacy"
      ]
    },
    {
      "cell_type": "code",
      "execution_count": null,
      "metadata": {
        "id": "X0YbX9NjYoue"
      },
      "outputs": [],
      "source": [
        "# accelerate the training process run parallal processing in your gpu\n",
        "!wget https://developer.nvidia.com/compute/cuda/9.2/Prod/local_installers/cuda-repo-ubuntu1604-9-2-local_9.2.88-1_amd64 -O cuda-repo-ubuntu1604–9–2-local_9.2.88–1_amd64.deb"
      ]
    },
    {
      "cell_type": "code",
      "execution_count": null,
      "metadata": {
        "id": "uiUgJR5PaK-c"
      },
      "outputs": [],
      "source": [
        "!dpkg -i cuda-repo-ubuntu1604–9–2-local_9.2.88–1_amd64.deb\n",
        "!apt-key add /var/cuda-repo-9–2-local/7fa2af80.pub\n",
        "!apt-get update\n",
        "!apt-get install cuda-9.2"
      ]
    },
    {
      "cell_type": "code",
      "execution_count": null,
      "metadata": {
        "id": "dxBZJAm5aR1r"
      },
      "outputs": [],
      "source": [
        "#  check the correct cuda compiler is installed\n",
        "!nvcc --version"
      ]
    },
    {
      "cell_type": "code",
      "execution_count": null,
      "metadata": {
        "id": "PbFYHiaBbV9d"
      },
      "outputs": [],
      "source": [
        "#install pytorch machine learning library that is configured for cuda 9.2\n",
        "!pip install torch==1.7.1+cu92 torchvision==0.8.2+cu92 torchaudio==0.7.2 -f https://download.pytorch.org/whl/torch_stable.html"
      ]
    },
    {
      "cell_type": "code",
      "execution_count": null,
      "metadata": {
        "id": "Ik2FvoWnc9uR"
      },
      "outputs": [],
      "source": [
        "# install spacy transformers tuned for cuda 9.2\n",
        "# change the CUDA_PATH and LD_LIBRARY \n",
        "# install the cupy library equivalent of numpy library but for gpu\n",
        "!pip install -U spacy[cuda92,transformers]\n",
        "!export CUDA_PATH=”/usr/local/cuda-9.2\"\n",
        "!export LD_LIBRARY_PATH=$CUDA_PATH/lib64:$LD_LIBRARY_PATH\n"
      ]
    },
    {
      "cell_type": "code",
      "execution_count": null,
      "metadata": {
        "id": "Pb-VGzDTeMNW"
      },
      "outputs": [],
      "source": [
        "#  create a config file using spacy training.page and use that config file\n",
        "!python -m spacy init fill-config /content/drive/MyDrive/nlp/base_config.cfg /content/drive/MyDrive/nlp/config_spacy.cfg"
      ]
    },
    {
      "cell_type": "code",
      "execution_count": null,
      "metadata": {
        "id": "geOG9QRIYfFc"
      },
      "outputs": [],
      "source": [
        "!curl https://colab.chainer.org/install | sh -"
      ]
    },
    {
      "cell_type": "code",
      "execution_count": null,
      "metadata": {
        "id": "AOTuPwFkGZrt"
      },
      "outputs": [],
      "source": [
        "!curl https://colab.chainer.org/install | sh -"
      ]
    },
    {
      "cell_type": "code",
      "execution_count": null,
      "metadata": {
        "colab": {
          "background_save": true
        },
        "id": "wturp59vGEAq"
      },
      "outputs": [],
      "source": [
        "!pip install cupy"
      ]
    },
    {
      "cell_type": "code",
      "execution_count": null,
      "metadata": {
        "id": "p3yPKdp_lQFD"
      },
      "outputs": [],
      "source": [
        "\n",
        "#  for debugging config file\n",
        "!python -m spacy debug data /content/drive/MyDrive/nlp/base_config.cfg"
      ]
    },
    {
      "cell_type": "code",
      "execution_count": null,
      "metadata": {
        "id": "BYn--TOZn5_O"
      },
      "outputs": [],
      "source": [
        "!python -m spacy init fill-config /content/drive/MyDrive/nlp/base_config.cfg /content/drive/MyDrive/nlp/base_config.cfg \n"
      ]
    },
    {
      "cell_type": "code",
      "execution_count": null,
      "metadata": {
        "id": "mgRDIWK6m8Te"
      },
      "outputs": [],
      "source": [
        "# start training\n",
        "!python -m spacy train -g 0 /content/drive/MyDrive/nlp/base_config.cfg  --output ./output "
      ]
    },
    {
      "cell_type": "code",
      "execution_count": null,
      "metadata": {
        "id": "kiWG2Oe1ne33"
      },
      "outputs": [],
      "source": [
        "# test on sample text. we need to load the model \n",
        "nlp = spacy.load(\"./model-best\")"
      ]
    },
    {
      "cell_type": "code",
      "execution_count": null,
      "metadata": {
        "id": "NvzixdqRsUTk"
      },
      "outputs": [],
      "source": [
        "text = [\"\"\"\n",
        "Qualifications\n",
        "- A thorough understanding of C# and .NET Core\n",
        "- Knowledge of good database design and usage\n",
        "- An understanding of NoSQL principles\n",
        "- Excellent problem solving and critical thinking skills\n",
        "- Curious about new technologies\n",
        "- Experience building cloud hosted, scalable web services\n",
        "- Azure experience is a plus\n",
        "Requirements\n",
        "- Bachelor's degree in Computer Science or related field\n",
        "(Equivalent experience can substitute for earned educational qualifications)\n",
        "- Minimum 4 years experience with C# and .NET\n",
        "- Minimum 4 years overall experience in developing commercial software\n",
        "\n",
        "\"\"\"]"
      ]
    },
    {
      "cell_type": "code",
      "execution_count": null,
      "metadata": {
        "id": "GDAJ1Hi3sdIN"
      },
      "outputs": [],
      "source": [
        "for doc in nlp.pipe(text, disable = [\"tagger\",\"parser\"]):\n",
        "  print([(ent.text, ent.label_)for ent in doc.ents])"
      ]
    }
  ],
  "metadata": {
    "accelerator": "GPU",
    "colab": {
      "collapsed_sections": [],
      "name": "finetune_bert_withspacy.ipynb",
      "provenance": []
    },
    "kernelspec": {
      "display_name": "Python 3",
      "name": "python3"
    },
    "language_info": {
      "name": "python"
    }
  },
  "nbformat": 4,
  "nbformat_minor": 0
}